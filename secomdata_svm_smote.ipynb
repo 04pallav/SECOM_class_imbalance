{
 "cells": [
  {
   "cell_type": "markdown",
   "metadata": {},
   "source": [
    "# SVM classification/SMOTE oversampling for an imbalanced data set\n",
    "\n",
    "Date created: Oct 14, 2016   \n",
    "Last modified: Oct 14, 2016  \n",
    "Tags: SVM, SMOTE, ROC/AUC, oversampling, imbalanced data set, semiconductor data   \n",
    "About: Rebalance imbalanced semicondutor manufacturing dataset by oversampling the minority class using SMOTE. Classify using SVM. Assess the value of oversampling using ROC/AUC. "
   ]
  },
  {
   "cell_type": "markdown",
   "metadata": {},
   "source": [
    "<h3>I. Introduction</h3>\n",
    "\n",
    "The [SECOM dataset](http://archive.ics.uci.edu/ml/datasets/SECOM) in the  [UCI Machine Learning Repository](http://archive.ics.uci.edu/ml) is semicondutor manufacturing data. There are 1567 records, 590 anonymized features and 104 fails. This makes it an imbalanced dataset with a 14:1 ratio of pass to fails. The process yield has a simple pass/fail response (encoded -1/1).\n",
    "\n",
    "<h4>Objective</h4>\n",
    "We consider some of the different approaches to classify imbalanced data. In the [previous example](https://github.com/Meena-Mani/SECOM_class_imbalance/blob/master/secomdata_ocsvm.ipynb) we looked at one-class SVM.\n",
    "Another strategy is to rebalance the dataset by oversampling the minority class and/or undersampling the majority class. This is done to improve the sensitivity (i.e the true positive rate) of the minority class. For this exercise, we will look at: \n",
    "- rebalancing the dataset using SMOTE (which oversamples the minority class) \n",
    "- ROC curves for different oversampling ratios\n",
    " \n",
    "\n",
    "<h4>Methodology</h4>\n",
    "The *sklearn* [imblearn toolbox](http://contrib.scikit-learn.org/imbalanced-learn/index.html) has many methods for oversamplng/undersampling. We will use the SMOTE (Synthetic Minority Over-sampling Technique) method introduced in 2002 by Chawla et al. <a href=\"#ref1\">[1]</a>, <a href=\"#ref2\">[2]</a>. With SMOTE, synthetic examples are interpolated along the line segments joining some/all of the <i>k</i> minority class nearest neighbors.  \n",
    "In the experiment, the  oversampling rate is varied between 10-70%, in 10% increments. The percentage represents the final minority class fraction after oversampling: if the majority class has 1000 data points (and the minority class 50), at 10% the minority class will have 100 data points after oversampling (not 5 or 50+5 = 55). \n",
    "\n",
    "The rebalanced data is classified using an SVM. The *imblearn* toolbox has a *pipeline* method which will be used to chain all the steps. The SMOTE+SVM method is evaluated by the area under the Receiver Operating Characteristic curve (AUC).\n",
    "\n",
    "<h4>Preprocessing</h4>\n",
    "The data represents measurements from a large number of processes or sensors and many of the records are missing. In addition some measurements are identical/constant and so not useful for prediction. We will remove those columns with high missing count or constant values.  \n",
    "The Random Forest variable importance is used to rank the variables in terms of their importance. For the random forest, we will impute the remainaing missing values with the median for the column.   \n",
    "We will additionally scale the data that is applied to the SVM. We will use the <i>sklearn preprocessing</i> module for both imputing and scaling.\n",
    "These are the same steps used for the [one-class SVM](https://github.com/Meena-Mani/SECOM_class_imbalance/blob/master/secomdata_ocsvm.ipynb) and a more detailed explanation can be seen there. "
   ]
  },
  {
   "cell_type": "code",
   "execution_count": 1,
   "metadata": {
    "collapsed": false
   },
   "outputs": [],
   "source": [
    "import numpy as np\n",
    "import pandas as pd\n",
    "import matplotlib.pyplot as plt\n",
    "import seaborn as sns\n",
    "%matplotlib inline\n",
    "\n",
    "from sklearn.preprocessing import Imputer\n",
    "from sklearn.preprocessing import StandardScaler\n",
    "from sklearn.cross_validation import train_test_split as tts\n",
    "\n",
    "from sklearn.ensemble import RandomForestClassifier\n",
    "from sklearn.svm import SVC \n",
    "\n",
    "from imblearn.over_sampling import SMOTE\n",
    "from imblearn.pipeline import Pipeline\n",
    "from sklearn.metrics import roc_curve, auc\n",
    "\n",
    "from __future__ import division"
   ]
  },
  {
   "cell_type": "code",
   "execution_count": 2,
   "metadata": {
    "collapsed": false
   },
   "outputs": [
    {
     "name": "stdout",
     "output_type": "stream",
     "text": [
      "The dataset has 1567 observations/rows and 590 variables/columns.\n",
      "The ratio of majority class to minority class is 14:1.\n"
     ]
    }
   ],
   "source": [
    "url = \"http://archive.ics.uci.edu/ml/machine-learning-databases/secom/secom.data\"\n",
    "secom = pd.read_table(url, header=None, delim_whitespace=True)\n",
    "\n",
    "url = \"http://archive.ics.uci.edu/ml/machine-learning-databases/secom/secom_labels.data\"\n",
    "y = pd.read_table(url, header=None, usecols=[0], squeeze=True, delim_whitespace=True)\n",
    "\n",
    "print 'The dataset has {} observations/rows and {} variables/columns.' \\\n",
    "       .format(secom.shape[0], secom.shape[1])\n",
    "print 'The ratio of majority class to minority class is {}:1.' \\\n",
    "      .format(int(y[y == -1].size/y[y == 1].size))"
   ]
  },
  {
   "cell_type": "markdown",
   "metadata": {},
   "source": [
    "<h3>II. Preprocessing </h3>"
   ]
  },
  {
   "cell_type": "markdown",
   "metadata": {},
   "source": [
    "We process the missing values first, dropping columns which have a large number of missing values and imputing values for those that have only a few missing values.\n",
    "The Random Forest variable importance is used to rank the variables in terms of their importance. The [one-class SVM](https://github.com/Meena-Mani/SECOM_class_imbalance/blob/master/secomdata_ocsvm.ipynb) exercise has a more detailed version of these steps."
   ]
  },
  {
   "cell_type": "code",
   "execution_count": 3,
   "metadata": {
    "collapsed": false
   },
   "outputs": [
    {
     "name": "stdout",
     "output_type": "stream",
     "text": [
      "The SECOM data set now has 409 variables.\n"
     ]
    },
    {
     "name": "stderr",
     "output_type": "stream",
     "text": [
      "/opt/local/Library/Frameworks/Python.framework/Versions/2.7/lib/python2.7/site-packages/ipykernel/__main__.py:7: SettingWithCopyWarning: \n",
      "A value is trying to be set on a copy of a slice from a DataFrame\n",
      "\n",
      "See the caveats in the documentation: http://pandas.pydata.org/pandas-docs/stable/indexing.html#indexing-view-versus-copy\n"
     ]
    }
   ],
   "source": [
    "# dropping columns which have large number of missing entries \n",
    "\n",
    "m = map(lambda x: sum(secom[x].isnull()), xrange(secom.shape[1]))\n",
    "m_200thresh = filter(lambda i: (m[i] > 200), xrange(secom.shape[1]))\n",
    "secom_drop_200thresh = secom.dropna(subset=[m_200thresh], axis=1)\n",
    "dropthese = [x for x in secom_drop_200thresh.columns.values if \\\n",
    "             secom_drop_200thresh[x].std() == 0]\n",
    "secom_drop_200thresh.drop(dropthese, axis=1, inplace=True)\n",
    "\n",
    "print 'The SECOM data set now has {} variables.'\\\n",
    "      .format(secom_drop_200thresh.shape[1])\n",
    "    "
   ]
  },
  {
   "cell_type": "code",
   "execution_count": 5,
   "metadata": {
    "collapsed": true
   },
   "outputs": [],
   "source": [
    "# imputing missing values for the random forest\n",
    "\n",
    "imp = Imputer(missing_values='NaN', strategy='median', axis=0)\n",
    "secom_imp = pd.DataFrame(imp.fit_transform(secom_drop_200thresh))\n",
    "\n",
    "# use Random Forest to assess variable importance\n",
    "\n",
    "rf = RandomForestClassifier(n_estimators=100, random_state=7)\n",
    "rf.fit(secom_imp, y)\n",
    "\n",
    "# sorting features according to their rank\n",
    "\n",
    "importance = rf.feature_importances_\n",
    "ranked_indices = np.argsort(importance)[::-1]\n"
   ]
  },
  {
   "cell_type": "markdown",
   "metadata": {},
   "source": [
    "<h3>III. SVM Classification </h3>"
   ]
  },
  {
   "cell_type": "markdown",
   "metadata": {},
   "source": [
    "<h4> Preprocessing </h4>\n",
    "\n",
    "The SVM is sensitive to feature scale so the first step is to center and normalize the data. The train and test sets are scaled separately using the mean and variance computed from the training data. This is done to estimate the ability of the model to generalize.\n"
   ]
  },
  {
   "cell_type": "code",
   "execution_count": 6,
   "metadata": {
    "collapsed": false
   },
   "outputs": [
    {
     "name": "stdout",
     "output_type": "stream",
     "text": [
      "Train data: The majority/minority class have 1170 and 83 elements respectively.\n",
      "The maj/min class ratio is: 14\n",
      "Holdout data: The majority/minority class have 293 and 21 elements respectively.\n",
      "The maj/min class ratio for the holdout set is: 14\n"
     ]
    }
   ],
   "source": [
    "# split data into train and holdout sets\n",
    "# stratify the sample used for modeling to preserve the class proportions\n",
    "\n",
    "\n",
    "X_train, X_holdout, y_train, y_holdout = tts(secom_imp[ranked_indices[:40]], y, \\\n",
    "                                             test_size=0.2, stratify=y, random_state=5)\n",
    "\n",
    "\n",
    "print 'Train data: The majority/minority class have {} and {} elements respectively.'\\\n",
    "      .format(y_train[y_train == -1].size, y_train[y_train == 1].size)\n",
    "print 'The maj/min class ratio is: {0:2.0f}' \\\n",
    "      .format(round(y_train[y_train == -1].size/y_train[y_train == 1].size))\n",
    "print 'Holdout data: The majority/minority class have {} and {} elements respectively.'\\\n",
    "       .format(y_holdout[y_holdout == -1].size, y_holdout[y_holdout == 1].size)\n",
    "print 'The maj/min class ratio for the holdout set is: {0:2.0f}' \\\n",
    "      .format(round(y_holdout[y_holdout == -1].size/y_holdout[y_holdout == 1].size))\n",
    "    "
   ]
  },
  {
   "cell_type": "code",
   "execution_count": 7,
   "metadata": {
    "collapsed": false
   },
   "outputs": [],
   "source": [
    "# scaling the split data. The holdout data uses scaling parameters \n",
    "# computed from the training data\n",
    "\n",
    "standard_scaler  = StandardScaler()\n",
    "X_train_scaled = pd.DataFrame(standard_scaler.fit_transform(X_train), \\\n",
    "                              index=X_train.index)\n",
    "X_holdout_scaled = pd.DataFrame(standard_scaler.transform(X_holdout))"
   ]
  },
  {
   "cell_type": "markdown",
   "metadata": {},
   "source": [
    "<h4> Finding parameters </h4>\n",
    "\n",
    "The usual way to select parameters is via grid-search and cross-validation (CV). The scoring is based on the accuracy. With imbalanced classes, since the true positive of the majority class dominates, alternative [scoring measures](http://scikit-learn.org/stable/modules/model_evaluation.html) such as the [F1](http://scikit-learn.org/stable/modules/generated/sklearn.metrics.f1_score.html) and [$F_{\\beta}$](http://scikit-learn.org/stable/modules/generated/sklearn.metrics.fbeta_score.html) scores or the [Matthews Correlation Coefficient](http://scikit-learn.org/stable/modules/generated/sklearn.metrics.matthews_corrcoef.html), which uses all four values of the confusion matrix, are used.   \n",
    "In CV experiments on this data, the majority class still dominates so that for the best CV F1-scores, the True Negative Rate (TNR - the rate at which the minority class is correctly classified) is zero.  \n",
    "Instead of automating the selection of hyperparameters, I have manually selected C and gamma values for which the precision/recall/F1 values as well as the TNR are high.\n",
    "\n",
    "An example is shown below."
   ]
  },
  {
   "cell_type": "code",
   "execution_count": 8,
   "metadata": {
    "collapsed": false
   },
   "outputs": [
    {
     "name": "stdout",
     "output_type": "stream",
     "text": [
      "Before resampling: \n",
      "The majority/minority class have 1170 and 83 elements respectively.\n",
      "After oversampling at 0.5%: \n",
      "The majority/minority class have 1170 and 585 elements respectively.\n"
     ]
    }
   ],
   "source": [
    "# oversampling\n",
    "ratio = 0.5\n",
    "\n",
    "smote = SMOTE(ratio = ratio, kind='regular')\n",
    "smox, smoy = smote.fit_sample(X_train_scaled, y_train)\n",
    "\n",
    "print 'Before resampling: \\n\\\n",
    "The majority/minority class have {} and {} elements respectively.'\\\n",
    ".format(y_train[y == -1].size, y_train[y == 1].size)\n",
    "print 'After oversampling at {}%: \\n\\\n",
    "The majority/minority class have {} and {} elements respectively.'\\\n",
    ".format(ratio, smoy[smoy == -1].size, smoy[smoy == 1].size)\n"
   ]
  },
  {
   "cell_type": "code",
   "execution_count": 29,
   "metadata": {
    "collapsed": false
   },
   "outputs": [
    {
     "data": {
      "image/png": "[encoded data removed]",
      "text/plain": [
       "<matplotlib.figure.Figure at 0x11d210ed0>"
      ]
     },
     "metadata": {},
     "output_type": "display_data"
    }
   ],
   "source": [
    "# plotting minority class distribution after SMOTE\n",
    "\n",
    "sns.set(style=\"white\", font_scale=1.3) \n",
    "fig, ax = plt.subplots(figsize=(7,5))\n",
    "\n",
    "after = pd.DataFrame(smox)\n",
    "\n",
    "ax = sns.distplot(after[4][smoy == 1], color='b',  \\\n",
    "                  kde=False, label='after')         \n",
    "ax = sns.distplot(X_train_scaled[4][y_train == 1], color='r', \\\n",
    "                  kde=False, label='before')\n",
    "ax.set_ylim([0, 110])\n",
    "ax.set(xlabel='')\n",
    "ax.legend()\n",
    "plt.title('Minority class distribution before and after oversampling')\n",
    "\n",
    "plt.show()"
   ]
  },
  {
   "cell_type": "code",
   "execution_count": 34,
   "metadata": {
    "collapsed": false
   },
   "outputs": [
    {
     "name": "stdout",
     "output_type": "stream",
     "text": [
      "The accuracy is: 0.85 \n",
      "\n",
      "The confusion matrix: \n",
      "[[260  33]\n",
      " [ 14   7]]\n",
      "The True Negative rate is: 0.33 \n",
      "\n",
      "             precision    recall  f1-score   support\n",
      "\n",
      "         -1       0.95      0.89      0.92       293\n",
      "          1       0.17      0.33      0.23        21\n",
      "\n",
      "avg / total       0.90      0.85      0.87       314\n",
      "\n",
      "The AUC is: 0.61\n"
     ]
    }
   ],
   "source": [
    "# classification results\n",
    "from sklearn.metrics import confusion_matrix, classification_report,\\\n",
    "roc_auc_score, accuracy_score\n",
    "\n",
    "clf = SVC(C = 2, gamma = .0008)\n",
    "clf.fit(smox, smoy)\n",
    "y_predicted = clf.predict(X_holdout_scaled)\n",
    "\n",
    "\n",
    "print 'The accuracy is: {0:4.2} \\n' .format(accuracy_score(y_holdout, y_predicted))\n",
    "\n",
    "print 'The confusion matrix: '\n",
    "cm = confusion_matrix(y_holdout, y_predicted)\n",
    "print cm\n",
    "print 'The True Negative rate is: {0:4.2} \\n' .format(float(cm[1][1])/np.sum(cm[1]))\n",
    "print(classification_report(y_holdout, y_predicted))\n",
    "print 'The AUC is: {0:4.2}'.format(roc_auc_score(y_holdout, y_predicted))\n"
   ]
  },
  {
   "cell_type": "markdown",
   "metadata": {},
   "source": [
    "Here the TNR is 0.33 and the precision/recall/F1 is in the 0.85 - 0.90 range. Whereas selecting the best CV score (usually in the 0.90 range) would have given a TNR or 0 for all the scoring metrics I looked at."
   ]
  },
  {
   "cell_type": "markdown",
   "metadata": {},
   "source": [
    "<h4>The Pipeline -- Oversampling, classification and ROC computations </h4>\n",
    "\n",
    "The *imblearn package* includes a [pipeline](http://contrib.scikit-learn.org/imbalanced-learn/generated/imblearn.pipeline.Pipeline.html#imblearn.pipeline.Pipeline) module which allows one to chain transformers, resamplers and estimators. We compute the ROC curves for each of the oversampling ratios and corresponding hyperparameters C and gamma and for this we use the pipeline to oversample with SMOTE and classify with the SVM.\n"
   ]
  },
  {
   "cell_type": "code",
   "execution_count": 31,
   "metadata": {
    "collapsed": false
   },
   "outputs": [
    {
     "name": "stdout",
     "output_type": "stream",
     "text": [
      "Pipeline(steps=[('smt', SMOTE(k=5, kind='regular', m=10, n_jobs=-1, out_step=0.5, random_state=42,\n",
      "   ratio='auto')), ('clf', SVC(C=1.0, cache_size=200, class_weight=None, coef0=0.0,\n",
      "  decision_function_shape=None, degree=3, gamma='auto', kernel='rbf',\n",
      "  max_iter=-1, probability=True, random_state=42, shrinking=True,\n",
      "  tol=0.001, verbose=False))])\n"
     ]
    }
   ],
   "source": [
    "# oversampling, classification and computing ROC values\n",
    "\n",
    "fpr = dict()\n",
    "tpr = dict()\n",
    "roc_auc = dict()\n",
    "\n",
    "ratio = [0.1, 0.2, 0.3, 0.4, 0.5, 0.6, 0.7]\n",
    "C =     [3, 3, 3, 2, 2, 2, 2]\n",
    "gamma = [.02, .009, .009, .005, .0008, .0009, .0007]\n",
    "\n",
    "    \n",
    "estimators = [('smt', SMOTE(random_state=42)), \n",
    "              ('clf', SVC(probability=True, random_state=42))]\n",
    "pipe = Pipeline(estimators)\n",
    "\n",
    "print pipe\n",
    "\n",
    "for i, ratio, C, gamma in zip(range(7), ratio, C, gamma):\n",
    "\n",
    "    pipe.set_params(smt__ratio = ratio, clf__C = C, clf__gamma = gamma)\n",
    "    probas_ = pipe.fit(X_train_scaled, y_train).predict_proba(X_holdout_scaled)\n",
    "    fpr[i], tpr[i], _ = roc_curve(y_holdout, probas_[:,1])\n",
    "    roc_auc[i] = auc(fpr[i], tpr[i])\n",
    "    "
   ]
  },
  {
   "cell_type": "code",
   "execution_count": 32,
   "metadata": {
    "collapsed": false
   },
   "outputs": [],
   "source": [
    "# plotting the ROC curves\n",
    "\n",
    "def plot_roc(fpr, tpr, roc_auc):\n",
    "    colors = ['darkorange', 'deeppink', 'red', 'aqua', 'cornflowerblue','navy', 'blue']\n",
    "\n",
    "    plt.figure(figsize=(10,8.5))\n",
    "    for i, color in zip(range(7), colors):\n",
    "        plt.plot(fpr[i], tpr[i], color=color, lw=2, linestyle=':',\n",
    "                 label='{0} (area = {1:0.2f})'\n",
    "                 ''.format((i+1)/10, roc_auc[i]))\n",
    "\n",
    "    plt.plot([0, 1], [0, 1], 'k--', lw=1)\n",
    "    plt.xlim([0.0, 1.0])\n",
    "    plt.ylim([0.0, 1.05])\n",
    "    plt.xlabel('False Positive Rate')\n",
    "    plt.ylabel('True Positive Rate')\n",
    "    plt.title('ROC curves: SMOTE oversampled minority class', fontsize=14)\n",
    "    plt.legend(title='Class ratio after oversampling', loc=\"lower right\")\n",
    "    plt.show()\n",
    "#   plt.savefig('ROC_oversampling.png')\n"
   ]
  },
  {
   "cell_type": "code",
   "execution_count": 33,
   "metadata": {
    "collapsed": false
   },
   "outputs": [
    {
     "data": {
      "image/png": "[encoded data removed]",
      "text/plain": [
       "<matplotlib.figure.Figure at 0x110959390>"
      ]
     },
     "metadata": {},
     "output_type": "display_data"
    }
   ],
   "source": [
    "plot_roc(fpr, tpr, roc_auc)"
   ]
  },
  {
   "cell_type": "markdown",
   "metadata": {
    "collapsed": true
   },
   "source": [
    "<h3>IV. Discussion</h3>\n",
    "\n",
    "There is a trend in the ROC curves (the ROC convex hull) in the figure above with higher oversampling ratios --0.7 vs 0.1-- having a higher AUC. An obvious question then is whether increasing the oversampling ratio to  get a balanced data set would give the best results.  \n",
    "\n",
    "In the experiment, no significant improvements were seen in the 0.5 - 0.8 (0.8 not plotted) regime. Oversampling with SMOTE broadens the decision region around the minority points (so we would expect better results) but the coverage may exceed the decision surface<sup>**</sup>. The level of oversampling therefore needs to be experimentally determined. \n",
    "\n",
    "Another strategy to balance the classes is to combine oversampling (the minority class) with undersampling (the majority class). Chawla et al. had reported <a href=\"#ref1\">[1]</a> that a combination of oversampling and undersampling gave the best results. We will experiment with this combination in a future exercise.\n",
    "\n",
    "\n",
    "<sup>**</sup>It should also be noted that oversampling results in a significant increase (and bias) in the minority class. For instance, for a 0.5 ratio, the minority class is increased seven-fold (from 83 to 585). A completely balanced data set would involve a fourteen-fold increase in the minority class and this would alter the decision surface."
   ]
  },
  {
   "cell_type": "markdown",
   "metadata": {},
   "source": [
    "<h3>V. References and Further Reading </h3>\n",
    "\n",
    "<a name=\"ref1\"></a>[1] [Nitesh V. Chawla, Kevin W. Bowyer, Lawrence O. Hall, and W. Philip Kegelmeyer. SMOTE: synthetic minority over-sampling technique. J. Artif. Int. Res. 16, 1 (June 2002), 321-357. ](https://www.cs.cmu.edu/afs/cs/project/jair/pub/volume16/chawla02a-html/chawla2002.html)\n",
    "\n",
    "<a name=\"ref2\"></a>[2] [Chawla, Nitesh V.  Data Mining for Imbalanced Datasets: An Overview. In: Maimon, Oded; Rokach, Lior (Eds) Data Mining and Knowledge Discovery Handbook, Springer, (2010), 875-886.](http://www3.nd.edu/~dial/publications/chawla2005data.pdf)\n",
    "\n",
    "<a name=\"ref3\"></a>[3] [Altini, Marco. \"Dealing with Imbalanced Data: Undersampling, Oversampling and Proper Cross-validation.\" Web log post. Marco Altini Blog. N.p., 17 Aug. 2015. Web.](http://www.marcoaltini.com/blog/dealing-with-imbalanced-data-undersampling-oversampling-and-proper-cross-validation)\n"
   ]
  },
  {
   "cell_type": "markdown",
   "metadata": {},
   "source": [
    "<div style=\"background-color: #FAAC58; margin-left: 0px; margin-right: 20px; padding-bottom: 8px; padding-left: 8px; padding-right: 8px; padding-top: 8px;\">\n",
    "\n",
    "\n",
    "Author:  Meena Mani  <br>\n",
    "email:   meenas.mailbag@gmail.com   <br> \n",
    "twitter: @meena_uvaca    <br>\n",
    "</div>"
   ]
  }
 ],
 "metadata": {
  "kernelspec": {
   "display_name": "Python 2",
   "language": "python",
   "name": "python2"
  },
  "language_info": {
   "codemirror_mode": {
    "name": "ipython",
    "version": 2
   },
   "file_extension": ".py",
   "mimetype": "text/x-python",
   "name": "python",
   "nbconvert_exporter": "python",
   "pygments_lexer": "ipython2",
   "version": "2.7.8"
  }
 },
 "nbformat": 4,
 "nbformat_minor": 0
}
