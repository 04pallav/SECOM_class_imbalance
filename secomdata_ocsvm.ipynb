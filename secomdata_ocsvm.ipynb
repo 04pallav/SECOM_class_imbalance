{
 "cells": [
  {
   "cell_type": "markdown",
   "metadata": {},
   "source": [
    "# One class SVM classification for an imbalanced data set\n",
    "\n",
    "Date created: Oct 10, 2016   \n",
    "Last modified: Oct 18, 2016  \n",
    "Tags: one-class SVM, Random Forest variable importance, imbalanced data set, anomaly detection, feature selection, semiconductor manufacturing data   \n",
    "About: for an imbalanced semicondutor manufacturing dataset, find explanatory variables with predictive power and build a classifier to detect failures"
   ]
  },
  {
   "cell_type": "markdown",
   "metadata": {},
   "source": [
    "The [SECOM dataset](http://archive.ics.uci.edu/ml/datasets/SECOM) in the  [UCI Machine Learning Repository](http://archive.ics.uci.edu/ml) is semicondutor manufacturing data. There are 1567 records, 590 anonymized features and 104 fails. This makes it an imbalanced with a 14:1 ratio of pass to fails. The process yield has a simple pass/fail response (encoded -1/1).\n",
    "\n",
    "<h4>Objective</h4>\n",
    "If the overall objective is to streamline the manufacturing process two things are needed: (i) a good classifier and (ii) feature selection. A streamlined feature set can not only lead to better prediction accuracy and data understanding but also optimize manufacturing resources.  \n",
    "For this exercise, we will look at: \n",
    "- the use of a one-class SVM for an imbalanced data set \n",
    "- reducing the number of features to improve classifier performance\n",
    " \n",
    "\n",
    "<h4>Methodology</h4>\n",
    "The [Variable Importance](http://www.statistik.uni-dortmund.de/useR-2008/slides/Strobl+Zeileis.pdf) is a byproduct of the random forest classifier construction. We will rank the features in order of importance and the first <i>x</i> ranked features will be used for the classifier.\n",
    "We will then use the one-class SVM (OCSVM) method to classify the data. In the OCSVM, a decision boundary is learned using only the majority class. The minority class data are outliers in this setup. \n",
    "\n",
    "<h4>Preprocessing</h4>\n",
    "The data represents measurements from a large number of processes or sensors; many of the records are missing -- 50-60% of an entire column in 4% of the cases. In addition some measurements are identical/constant and so not useful for prediction. We will remove those columns with high missing count or constant values.<br>\n",
    "For the random forest classifier, we will impute the remainaing missing values with the median for the column.\n",
    "For the OCSVM, we will additionally scale the data. We will use the <i>sklearn preprocessing</i> module for both imputing and scaling."
   ]
  },
  {
   "cell_type": "code",
   "execution_count": 1,
   "metadata": {
    "collapsed": false
   },
   "outputs": [],
   "source": [
    "import numpy as np\n",
    "import pandas as pd\n",
    "import matplotlib.pyplot as plt\n",
    "%matplotlib inline\n",
    "\n",
    "from sklearn.preprocessing import Imputer\n",
    "from sklearn.preprocessing import StandardScaler\n",
    "from sklearn.cross_validation import train_test_split as tts\n",
    "from sklearn.grid_search import ParameterGrid\n",
    "from sklearn.ensemble import RandomForestClassifier\n",
    "from sklearn import svm\n",
    "\n",
    "import warnings\n",
    "warnings.filterwarnings(\"ignore\")\n",
    "\n",
    "from __future__ import division"
   ]
  },
  {
   "cell_type": "code",
   "execution_count": 2,
   "metadata": {
    "collapsed": false
   },
   "outputs": [
    {
     "name": "stdout",
     "output_type": "stream",
     "text": [
      "The dataset has 1567 observations/rows and 590 variables/columns.\n",
      "The majority class has 1463 observations, minority class 104.\n",
      "The dataset is imbalanced. The ratio of majority class to minority class is 14:1.\n"
     ]
    }
   ],
   "source": [
    "url = \"http://archive.ics.uci.edu/ml/machine-learning-databases/secom/secom.data\"\n",
    "secom = pd.read_table(url, header=None, delim_whitespace=True)\n",
    "\n",
    "url = \"http://archive.ics.uci.edu/ml/machine-learning-databases/secom/secom_labels.data\"\n",
    "y = pd.read_table(url, header=None, usecols=[0], squeeze=True, delim_whitespace=True)\n",
    "\n",
    "print 'The dataset has {} observations/rows and {} variables/columns.'\\\n",
    "       .format(secom.shape[0], secom.shape[1])\n",
    "print 'The majority class has {} observations, minority class {}.'\\\n",
    "      .format(y[y == -1].size, y[y == 1].size)\n",
    "print 'The dataset is imbalanced. \\\n",
    "The ratio of majority class to minority class is {}:1.'\\\n",
    "      .format(int(y[y == -1].size/y[y == 1].size))"
   ]
  },
  {
   "cell_type": "markdown",
   "metadata": {},
   "source": [
    "<h3> Preprocessing </h3>"
   ]
  },
  {
   "cell_type": "markdown",
   "metadata": {},
   "source": [
    "We will process the missing values first, dropping columns which have a large number of missing values and imputing values for those that have only a few missing values. We will use <i>pandas</i> for this."
   ]
  },
  {
   "cell_type": "code",
   "execution_count": 3,
   "metadata": {
    "collapsed": false
   },
   "outputs": [
    {
     "name": "stdout",
     "output_type": "stream",
     "text": [
      "No. of columns after removing columns with missing data: 52\n",
      "No. of rows after removing rows with missing data: 0\n"
     ]
    }
   ],
   "source": [
    "# what if all the columns/rows with missing values were removed\n",
    "nmv = secom.dropna(axis=1)\n",
    "print 'No. of columns after removing columns with missing data: {}'\\\n",
    ".format(nmv.shape[1])\n",
    "\n",
    "nmv = secom.dropna(axis=0)\n",
    "print 'No. of rows after removing rows with missing data: {}'\\\n",
    ".format(nmv.shape[0])"
   ]
  },
  {
   "cell_type": "code",
   "execution_count": 4,
   "metadata": {
    "collapsed": false
   },
   "outputs": [
    {
     "data": {
      "image/png": "[encoded data removed]",
      "text/plain": [
       "<matplotlib.figure.Figure at 0x119cb3f50>"
      ]
     },
     "metadata": {},
     "output_type": "display_data"
    }
   ],
   "source": [
    "# num of missing entries per column\n",
    "\n",
    "m = map(lambda x: sum(secom[x].isnull()), xrange(secom.shape[1]))\n",
    "\n",
    "# distribution of columns with missing entries\n",
    "plt.hist(m, color='turquoise')\n",
    "plt.title(\"Distribution of missing values\")\n",
    "plt.xlabel(\"No. of missing values in a column\")\n",
    "plt.ylabel(\"Columns\")\n",
    "plt.show()"
   ]
  },
  {
   "cell_type": "code",
   "execution_count": 5,
   "metadata": {
    "collapsed": false
   },
   "outputs": [
    {
     "name": "stdout",
     "output_type": "stream",
     "text": [
      "The number of columns with more than 700 missing values: 32\n",
      "The number of columns with more than 200 missing values: 52\n"
     ]
    }
   ],
   "source": [
    "m_700thresh = filter(lambda i: (m[i] > 700), xrange(secom.shape[1]))\n",
    "print 'The number of columns with more than 700 missing values: {}'\\\n",
    ".format(len(m_700thresh))\n",
    "m_200thresh = filter(lambda i: (m[i] > 200), xrange(secom.shape[1]))\n",
    "print 'The number of columns with more than 200 missing values: {}'\\\n",
    ".format(len(m_200thresh))"
   ]
  },
  {
   "cell_type": "code",
   "execution_count": 6,
   "metadata": {
    "collapsed": false
   },
   "outputs": [
    {
     "name": "stdout",
     "output_type": "stream",
     "text": [
      "No. of columns after dropping columns with more than 200 missing entries: 520\n"
     ]
    }
   ],
   "source": [
    "# remove columns with more than 200 missing entries\n",
    "\n",
    "secom_drop_200thresh = secom.dropna(subset=[m_200thresh], axis=1)\n",
    "print 'No. of columns after dropping columns with more than 200 missing entries: {}'\\\n",
    ".format(secom_drop_200thresh.shape[1])"
   ]
  },
  {
   "cell_type": "code",
   "execution_count": 7,
   "metadata": {
    "collapsed": false,
    "scrolled": true
   },
   "outputs": [
    {
     "name": "stdout",
     "output_type": "stream",
     "text": [
      "There are 111 columns which have identical values recorded. We will drop these.\n",
      "The data set now has 409 columns.\n"
     ]
    }
   ],
   "source": [
    "# remove columns where every entry is identical (the std. dev = 0)\n",
    "\n",
    "dropthese = [x for x in secom_drop_200thresh.columns.values \\\n",
    "             if secom_drop_200thresh[x].std() == 0]\n",
    "\n",
    "print 'There are {} columns which have identical values recorded. \\\n",
    "We will drop these.' .format(len(dropthese))\n",
    "\n",
    "secom_drop_200thresh.drop(dropthese, axis=1, inplace=True)\n",
    "print 'The data set now has {} columns.'\\\n",
    ".format(secom_drop_200thresh.shape[1])"
   ]
  },
  {
   "cell_type": "code",
   "execution_count": 8,
   "metadata": {
    "collapsed": false
   },
   "outputs": [
    {
     "name": "stdout",
     "output_type": "stream",
     "text": [
      "The number of categorical variables is: 0\n"
     ]
    },
    {
     "data": {
      "text/html": [
       "<div>\n",
       "<table border=\"1\" class=\"dataframe\">\n",
       "  <thead>\n",
       "    <tr style=\"text-align: right;\">\n",
       "      <th></th>\n",
       "      <th>0</th>\n",
       "      <th>1</th>\n",
       "      <th>2</th>\n",
       "      <th>3</th>\n",
       "      <th>4</th>\n",
       "      <th>6</th>\n",
       "      <th>8</th>\n",
       "      <th>9</th>\n",
       "      <th>10</th>\n",
       "      <th>11</th>\n",
       "      <th>...</th>\n",
       "      <th>576</th>\n",
       "      <th>577</th>\n",
       "      <th>582</th>\n",
       "      <th>583</th>\n",
       "      <th>584</th>\n",
       "      <th>585</th>\n",
       "      <th>586</th>\n",
       "      <th>587</th>\n",
       "      <th>588</th>\n",
       "      <th>589</th>\n",
       "    </tr>\n",
       "  </thead>\n",
       "  <tbody>\n",
       "    <tr>\n",
       "      <th>0</th>\n",
       "      <td>3030.93</td>\n",
       "      <td>2564.00</td>\n",
       "      <td>2187.7333</td>\n",
       "      <td>1411.1265</td>\n",
       "      <td>1.3602</td>\n",
       "      <td>97.6133</td>\n",
       "      <td>1.5005</td>\n",
       "      <td>0.0162</td>\n",
       "      <td>-0.0034</td>\n",
       "      <td>0.9455</td>\n",
       "      <td>...</td>\n",
       "      <td>1.6765</td>\n",
       "      <td>14.9509</td>\n",
       "      <td>0.5005</td>\n",
       "      <td>0.0118</td>\n",
       "      <td>0.0035</td>\n",
       "      <td>2.3630</td>\n",
       "      <td>NaN</td>\n",
       "      <td>NaN</td>\n",
       "      <td>NaN</td>\n",
       "      <td>NaN</td>\n",
       "    </tr>\n",
       "    <tr>\n",
       "      <th>1</th>\n",
       "      <td>3095.78</td>\n",
       "      <td>2465.14</td>\n",
       "      <td>2230.4222</td>\n",
       "      <td>1463.6606</td>\n",
       "      <td>0.8294</td>\n",
       "      <td>102.3433</td>\n",
       "      <td>1.4966</td>\n",
       "      <td>-0.0005</td>\n",
       "      <td>-0.0148</td>\n",
       "      <td>0.9627</td>\n",
       "      <td>...</td>\n",
       "      <td>1.1065</td>\n",
       "      <td>10.9003</td>\n",
       "      <td>0.5019</td>\n",
       "      <td>0.0223</td>\n",
       "      <td>0.0055</td>\n",
       "      <td>4.4447</td>\n",
       "      <td>0.0096</td>\n",
       "      <td>0.0201</td>\n",
       "      <td>0.006</td>\n",
       "      <td>208.2045</td>\n",
       "    </tr>\n",
       "  </tbody>\n",
       "</table>\n",
       "<p>2 rows × 409 columns</p>\n",
       "</div>"
      ],
      "text/plain": [
       "       0        1          2          3       4         6       8       9    \\\n",
       "0  3030.93  2564.00  2187.7333  1411.1265  1.3602   97.6133  1.5005  0.0162   \n",
       "1  3095.78  2465.14  2230.4222  1463.6606  0.8294  102.3433  1.4966 -0.0005   \n",
       "\n",
       "      10      11     ...        576      577     582     583     584     585  \\\n",
       "0 -0.0034  0.9455    ...     1.6765  14.9509  0.5005  0.0118  0.0035  2.3630   \n",
       "1 -0.0148  0.9627    ...     1.1065  10.9003  0.5019  0.0223  0.0055  4.4447   \n",
       "\n",
       "      586     587    588       589  \n",
       "0     NaN     NaN    NaN       NaN  \n",
       "1  0.0096  0.0201  0.006  208.2045  \n",
       "\n",
       "[2 rows x 409 columns]"
      ]
     },
     "execution_count": 8,
     "metadata": {},
     "output_type": "execute_result"
    }
   ],
   "source": [
    "# checking whether there is a mix of categorical variables\n",
    "\n",
    "print 'The number of categorical variables is: {}'\\\n",
    ".format(sum((secom_drop_200thresh.dtypes == 'categorical')*1))\n",
    "secom_drop_200thresh.head(2)"
   ]
  },
  {
   "cell_type": "code",
   "execution_count": 9,
   "metadata": {
    "collapsed": false,
    "scrolled": true
   },
   "outputs": [],
   "source": [
    "# imputing missing values for the random forest\n",
    "\n",
    "imp = Imputer(missing_values='NaN', strategy='median', axis=0)\n",
    "secom_imp = pd.DataFrame(imp.fit_transform(secom_drop_200thresh))"
   ]
  },
  {
   "cell_type": "markdown",
   "metadata": {},
   "source": [
    "<h3> Random Forest Variable Importance</h3>\n",
    "\n",
    "In addition to prediction the Random Forest can also be used to assess variable importance. In the <i>sklearn</i> [RandomForestClassifier](http://scikit-learn.org/stable/modules/ensemble.html#forest) package this is computed from the total decrease in node impurity when a  predictor is split. There are issues with this computation (there is a bias towards variables with more categories and correlated variables are arbitrarily selected) but we can ignore these since we will be using many variables for the OCSVM classifier. A bigger concern is the imbalance in the data set as this might affect the variable importance ranking.<br>\n",
    "\n",
    "The SECOM matrix at this point has 409 variables. We will use the Random Forest to rank the variables in terms of their importance.  "
   ]
  },
  {
   "cell_type": "code",
   "execution_count": 10,
   "metadata": {
    "collapsed": false
   },
   "outputs": [
    {
     "data": {
      "text/plain": [
       "RandomForestClassifier(bootstrap=True, class_weight=None, criterion='gini',\n",
       "            max_depth=None, max_features='auto', max_leaf_nodes=None,\n",
       "            min_samples_leaf=1, min_samples_split=2,\n",
       "            min_weight_fraction_leaf=0.0, n_estimators=100, n_jobs=1,\n",
       "            oob_score=False, random_state=7, verbose=0, warm_start=False)"
      ]
     },
     "execution_count": 10,
     "metadata": {},
     "output_type": "execute_result"
    }
   ],
   "source": [
    "rf = RandomForestClassifier(n_estimators=100, random_state=7)\n",
    "rf.fit(secom_imp, y)"
   ]
  },
  {
   "cell_type": "code",
   "execution_count": 11,
   "metadata": {
    "collapsed": false
   },
   "outputs": [
    {
     "name": "stdout",
     "output_type": "stream",
     "text": [
      "Feature Rank:\n",
      "  1 column   55  0.0155\n",
      "  2 column   50  0.0128\n",
      "  3 column  311  0.0113\n",
      "  4 column   56  0.0082\n",
      "  5 column   34  0.0077\n",
      "  6 column  351  0.0074\n",
      "  7 column  131  0.0070\n",
      "  8 column   21  0.0069\n",
      "  9 column  219  0.0065\n",
      " 10 column   85  0.0062\n",
      " 11 column   65  0.0061\n",
      " 12 column  230  0.0061\n",
      " 13 column  232  0.0059\n",
      " 14 column  310  0.0059\n",
      " 15 column  382  0.0058\n",
      "\n",
      "\n",
      "405 column  175  0.0000\n",
      "406 column  261  0.0000\n",
      "407 column  264  0.0000\n",
      "408 column  352  0.0000\n",
      "409 column   62  0.0000\n",
      "The number of features better than average is: 148\n"
     ]
    }
   ],
   "source": [
    "# displaying features and their rank\n",
    "\n",
    "importance = rf.feature_importances_\n",
    "ranked_indices = np.argsort(importance)[::-1]\n",
    "\n",
    "print \"Feature Rank:\"\n",
    "for i in range(15):\n",
    "    print \"{0:3d} column  {1:3d}  {2:6.4f}\"\\\n",
    "    .format(i+1, ranked_indices[i], importance[ranked_indices[i]])\n",
    "print \"\\n\"\n",
    "for i in xrange(len(importance)-5,len(importance)):\n",
    "    print \"{0:3d} column  {1:3d}  {2:6.4f}\"\\\n",
    "    .format(i+1, ranked_indices[i], importance[ranked_indices[i]])\n",
    "\n",
    "navg = 0\n",
    "for i in range(len(importance)):    \n",
    "    if importance[ranked_indices[i]] > np.average(rf.feature_importances_):\n",
    "        navg = navg+1\n",
    "print 'The number of features better than average is: {}'.format(navg)        "
   ]
  },
  {
   "cell_type": "code",
   "execution_count": 12,
   "metadata": {
    "collapsed": false
   },
   "outputs": [
    {
     "data": {
      "image/png": "[encoded data removed]",
      "text/plain": [
       "<matplotlib.figure.Figure at 0x1108dc110>"
      ]
     },
     "metadata": {},
     "output_type": "display_data"
    }
   ],
   "source": [
    "# plot of importance vs the number of features\n",
    "\n",
    "plt.figure(figsize=(8,6))\n",
    "plt.plot(range(len(importance)), importance[ranked_indices[:]])\n",
    "plt.axvline(15, color='magenta', linestyle='dashdot', label='n=15')\n",
    "plt.axvline(40, color='orange', linestyle='dashed', label='n=40')\n",
    "plt.axvline(65, color='turquoise', linestyle='dashdot', label='n=65')\n",
    "plt.axvline(100, color='red', linestyle='dotted', label='n=100')\n",
    "plt.text(15, 0.002, 'n=15', rotation='vertical')\n",
    "plt.text(40, 0.008, 'n=40', rotation='vertical')\n",
    "plt.text(65, 0.011, 'n=65', rotation='vertical')\n",
    "plt.text(100, 0.014, 'n=100', rotation='vertical')\n",
    "plt.title('Importance vs feature rank')\n",
    "plt.xlabel('feature rank')\n",
    "plt.ylabel('importance')\n",
    "plt.show()"
   ]
  },
  {
   "cell_type": "markdown",
   "metadata": {},
   "source": [
    "From this plot, we see points of inflection around the 15, 40, 65 and 100 mark. We will use these to generate 4-5 sets of features to test out on the one-class SVM.  The 50 percentile mark is at 148 so these are reduced feature sets, much smaller than the 409 features we had after cleaning the data. In some of the literature <a href=\"#ref1\">[1]</a> associated with this data set, 40 features were used in the analysis. This was determined by correlation."
   ]
  },
  {
   "cell_type": "markdown",
   "metadata": {},
   "source": [
    "<h3> One-class SVM (OCSVM) </h3>\n",
    "\n",
    "The OCSVM proposed by Schölkopf et al. <a href=\"#ref2\">[2]</a>, <a href=\"#ref3\">[3]</a> can be used to detect negative examples in imbalanced data sets. In the OCSVM, training examples from the majority class are mapped to a feature space circumscribed by a hypersphere; a soft-margin decision boundary is minimized and all points outside are considered outliers. \n",
    "\n",
    "<h4>Preprocessing</h4>  \n",
    "\n",
    "The data is first divided into a majority class train and test set and the minority class test-only set.\n",
    "The OCSVM is sensitive to feature scale so the first step is to center and normalize the data. The train and test sets are scaled separately using the mean and variance computed from the training data. This is done to estimate the ability of the model to generalize.  \n",
    "\n",
    "<h4>Parameter Tuning</h4> \n",
    "\n",
    "The main parameters are the choice of the <i>kernel</i>, <i>nu</i> and <i>gamma</i>. Some preliminary evaluation showed that the linear and polynomial kernels give poor results. This leaves the <i>rbf</i> kernel for further experimentation.\n",
    "\n",
    "The hyper-parameters for OCSVM with the <i>rbf</i> kernel are nu ($\\nu$) and gamma ($\\gamma$).<br>\n",
    "<ul>\n",
    "<li> <b>nu:</b> the upper bound for the fraction of margin errors (outliers here) allowed in the data and the lower bound for support vectors relative to the total training examples. It has a range of (0,1). The OCSVM nu can be likened to the SVM parameter <i>C</i> in that both are attached to the penalty term of their respective objective functions.\n",
    "    <ol>\n",
    "    <li>Small nu is associated with a smaller margin and higher variance\n",
    "    <li>Large nu is associated with lower misclassification penalty and low model complexity\n",
    "    </ol>    \n",
    "<li> <b>gamma:</b> This is a regularization parameter which for the <i>rbf</i> kernel is equal to $\\frac{1}{2\\sigma^2}$. It defines the influence of a single training point on points nearby. \n",
    "    <ol>\n",
    "    <li> Low values of gamma (large $\\sigma$) imply that training points on or near the decision boundary have high influence. This tends to smoothen the decision boundary (as there are many points exerting an influence) and is related to higher bias. \n",
    "    <li> High values of gamma (small $\\sigma$) imply that points on the decision boundary exert less influence. This leads to a more flexible curvy decision boundary that is associated with higher variance.\n",
    "    </ol>    \n",
    "</ul>\n"
   ]
  },
  {
   "cell_type": "code",
   "execution_count": 28,
   "metadata": {
    "collapsed": false
   },
   "outputs": [],
   "source": [
    "# function for preprocessing, classification, parameter grid search \n",
    "\n",
    "def ocsvm_classify(nfeatures, param_grid, printflag=0, printheader=0):\n",
    "    \n",
    "    # selecting features and generating a data set\n",
    "    X_ocsvm   = secom_imp.loc[y == -1,ranked_indices[:nfeatures]]\n",
    "    X_outlier = secom_imp.loc[y == 1,ranked_indices[:nfeatures]]\n",
    "    if printflag:\n",
    "        print \"The majority/minority classes have {}/{} observations. \\n\"\\\n",
    "              .format(X_ocsvm.shape[0], X_outlier.shape[0]) \n",
    "\n",
    "    # By convention the majority class has a +1 label\n",
    "    # and the train and test set belong to the majority class.\n",
    "    # This is not to be confused with the secom dataset where \n",
    "    # the majority class has a -1 label\n",
    "    y_ocsvm = np.ones(len(X_ocsvm))\n",
    "    X_train, X_test, y_train, y_test = tts(\n",
    "    X_ocsvm, y_ocsvm, test_size=0.3, random_state=5)\n",
    "    \n",
    "    \n",
    "    # scaling the split data. The test/outlier data uses scaling parameters \n",
    "    # computed from the training data\n",
    "    standard_scaler = StandardScaler()\n",
    "    X_train_scaled  = standard_scaler.fit_transform(X_train)\n",
    "    X_test_scaled   = standard_scaler.transform(X_test)\n",
    "    X_outlier_scaled  = standard_scaler.transform(X_outlier)\n",
    "    \n",
    "    \n",
    "    # classify for each set of parameters in the grid\n",
    "    for i in range(len(list(ParameterGrid(param_grid)) )):\n",
    "        nu = ParameterGrid(param_grid)[i]['nu']\n",
    "        gamma = ParameterGrid(param_grid)[i]['gamma']\n",
    "        clf = svm.OneClassSVM(nu=nu, kernel='rbf', gamma=gamma)\n",
    "        clf.fit(X_train_scaled)\n",
    "        y_pred_train = clf.predict(X_train_scaled)\n",
    "        y_pred_test = clf.predict(X_test_scaled)\n",
    "        y_pred_outlier = clf.predict(X_outlier_scaled)\n",
    "        \n",
    "        # calculating error\n",
    "        n_error_train = y_pred_train[y_pred_train == -1].size\n",
    "        n_error_test = y_pred_test[y_pred_test == -1].size\n",
    "        n_error_outlier = y_pred_outlier[y_pred_outlier == 1].size   \n",
    "    \n",
    "        # printing results\n",
    "        if i == 0:\n",
    "            if printheader:\n",
    "                print \"nfeatures\\tnu\\tgamma\\t train error\\t test error\\t outlier error\"\n",
    "            print \"{0:3d}\\t\\t{1:3.2f}\\t{2:3.2f}\\t {3:3d}({4:4.2f}%)\\t {5:3d}({6:4.2f}%)\\t{7:3d}({8:4.2f}%)\"\\\n",
    "            .format(nfeatures, nu, gamma, \\\n",
    "            n_error_train, round(n_error_train/len(y_train) *100, 2),\\\n",
    "            n_error_test, round(n_error_test/len(y_test) *100, 2),\\\n",
    "            n_error_outlier, round(n_error_outlier/len(X_outlier) *100, 2))\n",
    "        else:\n",
    "            print \"\\t\\t{0:3.2f}\\t{1:3.2f}\\t {2:3d}({3:4.2f}%) \\t {4:3d}({5:4.2f}%)\\t{6:3d}({7:4.2f}%)\"\\\n",
    "            .format(nu, gamma, \\\n",
    "            n_error_train, round(n_error_train/len(y_train) *100, 2),\\\n",
    "            n_error_test, round(n_error_test/len(y_test) *100, 2),\\\n",
    "            n_error_outlier, round(n_error_outlier/len(X_outlier) *100, 2))\n",
    "        "
   ]
  },
  {
   "cell_type": "code",
   "execution_count": 29,
   "metadata": {
    "collapsed": false
   },
   "outputs": [
    {
     "name": "stdout",
     "output_type": "stream",
     "text": [
      "The majority/minority classes have 1463/104 observations. \n",
      "\n",
      "nfeatures\tnu\tgamma\t train error\t test error\t outlier error\n",
      " 40\t\t0.03\t0.07\t 147(14.36%)\t 112(25.51%)\t 44(42.31%)\n",
      "\t\t0.04\t0.07\t 124(12.11%) \t 112(25.51%)\t 44(42.31%)\n",
      "\t\t0.05\t0.07\t 135(13.18%) \t 112(25.51%)\t 44(42.31%)\n",
      "\t\t0.03\t0.08\t 157(15.33%) \t 127(28.93%)\t 40(38.46%)\n",
      "\t\t0.04\t0.08\t 203(19.82%) \t 127(28.93%)\t 40(38.46%)\n",
      "\t\t0.05\t0.08\t 193(18.85%) \t 127(28.93%)\t 40(38.46%)\n",
      "\t\t0.03\t0.09\t 169(16.50%) \t 148(33.71%)\t 32(30.77%)\n",
      "\t\t0.04\t0.09\t 208(20.31%) \t 148(33.71%)\t 32(30.77%)\n",
      "\t\t0.05\t0.09\t 217(21.19%) \t 148(33.71%)\t 32(30.77%)\n",
      "\t\t0.03\t0.10\t 203(19.82%) \t 175(39.86%)\t 29(27.88%)\n",
      "\t\t0.04\t0.10\t 186(18.16%) \t 175(39.86%)\t 29(27.88%)\n",
      "\t\t0.05\t0.10\t 236(23.05%) \t 175(39.86%)\t 29(27.88%)\n",
      "\t\t0.03\t0.15\t 374(36.52%) \t 283(64.46%)\t 11(10.58%)\n",
      "\t\t0.04\t0.15\t 373(36.43%) \t 283(64.46%)\t 11(10.58%)\n",
      "\t\t0.05\t0.15\t 262(25.59%) \t 283(64.46%)\t 11(10.58%)\n",
      "\t\t0.03\t0.20\t 396(38.67%) \t 376(85.65%)\t  1(0.96%)\n",
      "\t\t0.04\t0.20\t 484(47.27%) \t 375(85.42%)\t  1(0.96%)\n",
      "\t\t0.05\t0.20\t 508(49.61%) \t 375(85.42%)\t  1(0.96%)\n",
      "\n",
      "\n",
      " 60\t\t0.10\t0.04\t 146(14.26%)\t 100(22.78%)\t 50(48.08%)\n",
      "\t\t0.20\t0.04\t 210(20.51%) \t 106(24.15%)\t 41(39.42%)\n",
      "\t\t0.10\t0.05\t 183(17.87%) \t 133(30.30%)\t 34(32.69%)\n",
      "\t\t0.20\t0.05\t 224(21.88%) \t 135(30.75%)\t 34(32.69%)\n",
      "\t\t0.10\t0.06\t 231(22.56%) \t 173(39.41%)\t 24(23.08%)\n",
      "\t\t0.20\t0.06\t 246(24.02%) \t 173(39.41%)\t 24(23.08%)\n",
      " 65\t\t0.10\t0.04\t 121(11.82%)\t 117(26.65%)\t 39(37.50%)\n",
      "\t\t0.10\t0.05\t 162(15.82%) \t 154(35.08%)\t 29(27.88%)\n",
      "100\t\t0.04\t0.03\t 208(20.31%)\t 159(36.22%)\t 29(27.88%)\n",
      "\t\t0.05\t0.03\t 212(20.70%) \t 159(36.22%)\t 29(27.88%)\n",
      "\t\t0.04\t0.04\t 275(26.86%) \t 237(53.99%)\t 14(13.46%)\n",
      "\t\t0.05\t0.04\t 259(25.29%) \t 237(53.99%)\t 14(13.46%)\n",
      "\n",
      "\n",
      " 15\t\t0.02\t0.10\t  56(5.47%)\t  42(9.57%)\t 73(70.19%)\n",
      "\t\t0.03\t0.10\t  57(5.57%) \t  42(9.57%)\t 73(70.19%)\n",
      "\t\t0.04\t0.10\t  63(6.15%) \t  42(9.57%)\t 73(70.19%)\n",
      "\t\t0.02\t0.15\t  85(8.30%) \t  62(14.12%)\t 59(56.73%)\n",
      "\t\t0.03\t0.15\t  83(8.11%) \t  62(14.12%)\t 59(56.73%)\n",
      "\t\t0.04\t0.15\t  95(9.28%) \t  62(14.12%)\t 59(56.73%)\n",
      "\t\t0.02\t0.18\t  98(9.57%) \t  81(18.45%)\t 52(50.00%)\n",
      "\t\t0.03\t0.18\t 105(10.25%) \t  80(18.22%)\t 52(50.00%)\n",
      "\t\t0.04\t0.18\t 107(10.45%) \t  81(18.45%)\t 52(50.00%)\n",
      "\t\t0.02\t0.20\t 120(11.72%) \t  90(20.50%)\t 49(47.12%)\n",
      "\t\t0.03\t0.20\t 126(12.30%) \t  91(20.73%)\t 49(47.12%)\n",
      "\t\t0.04\t0.20\t 125(12.21%) \t  91(20.73%)\t 49(47.12%)\n"
     ]
    }
   ],
   "source": [
    "# running a second pass on the tuning matrix (after a coarse first pass)\n",
    "\n",
    "param_grid = {'nu': [0.03,0.04,0.05], 'gamma': [0.07, 0.08, 0.09, 0.10, 0.15, 0.20]}\n",
    "ocsvm_classify(40, param_grid, printflag=1, printheader=1)\n",
    "print \"\\n\"\n",
    "param_grid = {'nu': [0.1,0.2], 'gamma': [0.04, 0.05, 0.06]}\n",
    "ocsvm_classify(60, param_grid)  \n",
    "param_grid = {'nu': [0.1], 'gamma': [0.04, 0.05]}\n",
    "ocsvm_classify(65, param_grid)\n",
    "param_grid = {'nu': [0.04,0.05], 'gamma': [0.03, 0.04]}\n",
    "ocsvm_classify(100, param_grid)\n",
    "print \"\\n\"\n",
    "param_grid = {'nu': [0.02,0.03, 0.04], 'gamma': [0.10, 0.15, 0.18, 0.20]}\n",
    "ocsvm_classify(15, param_grid) "
   ]
  },
  {
   "cell_type": "markdown",
   "metadata": {
    "collapsed": true
   },
   "source": [
    "<h3>Observations</h3>\n",
    "\n",
    "As gamma increases:\n",
    "*   the outlier classification improves\n",
    "*   the test error also improves \n",
    "*   the train error is not significantly affected\n",
    "\n",
    "As nu increases:\n",
    "*   the outlier and test error do not change\n",
    "*   the training error changes slightly increasing in some cases, decreasing in others\n",
    "\n",
    "As n, the number of variables, increases:\n",
    "*   n = 15, train error is much smaller than the outlier error\n",
    "*   n = 40 - 65: this seems to be the most tunable regime. The best results were obtained when the test error and outlier error were in the low 30% range when n=60 and 65.\n",
    "*   n = 100: This is also in the tunable range. \n",
    "\n",
    "<h3>Discussion</h3>\n",
    "\n",
    "This parameter grid search was carried out on a single split of the data (rather than cross-validation) but there is an  indication the models have high bias since the train error and test error are both high and also because you can reduce the outlier error by increasing the variance via gamma. \n",
    "\n",
    "The best<sup>**</sup> results were obtained when the test error and outlier error were in the low 30% range for n=40 - 65. \n",
    "\n",
    "| nfeatures   |      nu      | gamma | train error | test error |outlier error |           \n",
    "|:----------: |:------------:|:-----:|:----------: |:----------:|:----------:  |        \n",
    "|40 |0.03  | 0.09  | 169(16.50%)  |\t148(33.71%) |  32(30.77%)|\n",
    "|60 |0.10  | 0.05  | 183(17.87%)  | 133(30.30%) |  34(32.69%)| \n",
    "|65 |0.10  | 0.05  |162(15.82%)   |\t154(35.08%) | 29(27.88%) |\n",
    "\n",
    "This however is still too high. The OCSVM on this data set also appears to be difficult to tune so rather than find the optimal hyperparameters through cross-validation we will look at other classification methods. \n",
    "\n",
    "<sup>**</sup>Depending on which point in the production flow the data was recorded, one may wish to optimize for False Positives or False Negatives. If you optimize for detecting False Positives early in the production flow, you will  save resources for a device that will be dead in the backend. At the end of the line, detecting false negatives is more important since the chip, which increases in value with each process step, is most valuable at this stage.\n"
   ]
  },
  {
   "cell_type": "markdown",
   "metadata": {},
   "source": [
    "<h3> References and Further Reading </h3>\n",
    "\n",
    "<a name=\"ref1\"></a>[1] [M McCann Y Li L Maguire and A Johnston. \"Causality Challenge: Benchmarking relevant signal components for effective monitoring and process control.\" J. Mach. Learn. Res. Proc. NIPS 2008 workshop on causality](http://www.jmlr.org/proceedings/papers/v6/mccann10a/mccann10a.pdf).\n",
    "\n",
    "<a name=\"ref2\"></a>[2] [Schölkopf, Bernhard, et al. \"Support Vector Method for Novelty Detection.\" NIPS. Vol. 12. 1999.](http://citeseerx.ist.psu.edu/viewdoc/download?doi=10.1.1.675.575&rep=rep1&type=pdf)\n",
    "\n",
    "<a name=\"ref2\"></a>[3] [B. Schölkopf, A. Smola, R. Williamson, and P. L. Bartlett. New support vector algorithms. Neural Computation, 12, 2000, 1207-1245.](http://sci2s.ugr.es/keel/pdf/algorithm/articulo/NewSVM.pdf)\n",
    "\n",
    "[4] [Statnikov, Alexander, et al. \"A Gentle Introduction to Support Vector Machines in Biomedicine.\"](https://www.stat.auckland.ac.nz/~lee/760/SVM%20tutorial.pdf)\n",
    "\n",
    "[5] [SVM Parameters](http://www.svms.org/parameters/)"
   ]
  },
  {
   "cell_type": "markdown",
   "metadata": {},
   "source": [
    "<div style=\"background-color: #FAAC58; margin-left: 0px; margin-right: 20px; padding-bottom: 8px; padding-left: 8px; padding-right: 8px; padding-top: 8px;\">\n",
    "\n",
    "\n",
    "Author:  Meena Mani  <br>\n",
    "email:   meenas.mailbag@gmail.com   <br> \n",
    "twitter: @meena_uvaca    <br>\n",
    "</div>"
   ]
  }
 ],
 "metadata": {
  "kernelspec": {
   "display_name": "Python 2",
   "language": "python",
   "name": "python2"
  },
  "language_info": {
   "codemirror_mode": {
    "name": "ipython",
    "version": 2
   },
   "file_extension": ".py",
   "mimetype": "text/x-python",
   "name": "python",
   "nbconvert_exporter": "python",
   "pygments_lexer": "ipython2",
   "version": "2.7.8"
  }
 },
 "nbformat": 4,
 "nbformat_minor": 0
}
