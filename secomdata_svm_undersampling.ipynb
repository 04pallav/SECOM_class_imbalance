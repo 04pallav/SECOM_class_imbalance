{
 "cells": [
  {
   "cell_type": "markdown",
   "metadata": {},
   "source": [
    "# SVM, Undersampling and Data Cleaning for Imbalanced Data \n",
    "\n",
    "Date created: Nov 16, 2016   \n",
    "Last modified: Nov 16, 2016  \n",
    "Tags: SVM, undersampling, data-cleaning, imbalanced data set, semiconductor data   \n",
    "About: Improve the classification of an imbalanced semicondutor manufacturing data set using a combination of undersampling (the majority class) and data cleaning."
   ]
  },
  {
   "cell_type": "markdown",
   "metadata": {},
   "source": [
    "<h3>I. Introduction</h3>\n",
    "\n",
    "The [SECOM dataset](http://archive.ics.uci.edu/ml/datasets/SECOM) in the  [UCI Machine Learning Repository](http://archive.ics.uci.edu/ml) is semicondutor manufacturing data. There are 1567 records, 590 anonymized features and 104 fails. This makes it an imbalanced dataset with a 14:1 ratio of pass to fails. The process yield has a simple pass/fail response (encoded -1/1).\n",
    "\n",
    "<h4>Objective</h4>\n",
    "We consider some of the different approaches to classify imbalanced data. In previous examples we looked at [one-class SVM](https://github.com/Meena-Mani/SECOM_class_imbalance/blob/master/secomdata_ocsvm.ipynb) and the [weighted Random Forest](https://github.com/Meena-Mani/SECOM_class_imbalance/blob/master/secomdata_rf.ipynb).\n",
    "Data sampling is another strategy where the aim is to rebalance the data set by oversampling the minority class and/or undersampling the majority class. This is done to improve the sensitivity (i.e the true positive rate) of the minority class. We have already looked at [SVM+oversampling using SMOTE](https://github.com/Meena-Mani/SECOM_class_imbalance/blob/master/secomdata_svm_smote.ipynb). For this exercise, we will focus on undersampling and data cleaning methods.\n",
    "\n",
    "<h4>Methodology</h4>\n",
    "The *sklearn* [imblearn toolbox](http://contrib.scikit-learn.org/imbalanced-learn/index.html) has many methods for oversamplng, undersampling and data cleaning. We will use:\n",
    "- random undersampling (of the majority class)\n",
    "- undersampling + data cleaning using Tomek links  \n",
    "- undersampling + data cleaning using the neighborhood cleaning rule  \n",
    "\n",
    "The undersampling or data cleaning step is followed by classification using an SVM. The *imblearn* toolbox has a [pipeline](http://contrib.scikit-learn.org/imbalanced-learn/generated/imblearn.pipeline.Pipeline.html#imblearn.pipeline.Pipeline) method which will be used to chain all the steps. The cross validation is evaluated with the Matthews correlation coeefficient as well as other measures based on the confusion matrix. \n",
    "\n",
    "<h4>Preprocessing</h4>\n",
    "The data represents measurements from a large number of processes or sensors and many of the records are missing. In addition some measurements are identical/constant and so not useful for prediction. We will remove those columns with high missing count or constant values.  \n",
    "The Random Forest variable importance is used to rank the variables in terms of their importance. For the random forest, we will impute the remaining missing values with the median for the column.   \n",
    "We will additionally scale the data that is applied to the SVM. We will use the <i>sklearn preprocessing</i> module for both imputing and scaling.\n",
    "These are the same steps used for the [one-class SVM](https://github.com/Meena-Mani/SECOM_class_imbalance/blob/master/secomdata_ocsvm.ipynb) and a more detailed explanation can be seen there. "
   ]
  },
  {
   "cell_type": "code",
   "execution_count": 1,
   "metadata": {
    "collapsed": false
   },
   "outputs": [],
   "source": [
    "import numpy as np\n",
    "import pandas as pd\n",
    "import matplotlib.pyplot as plt\n",
    "import seaborn as sns\n",
    "%matplotlib inline\n",
    "\n",
    "from sklearn.preprocessing import Imputer\n",
    "from sklearn.preprocessing import StandardScaler\n",
    "from sklearn.cross_validation import train_test_split as tts\n",
    "\n",
    "from sklearn.ensemble import RandomForestClassifier\n",
    "from sklearn.svm import SVC \n",
    "\n",
    "from imblearn.under_sampling import RandomUnderSampler\n",
    "from imblearn.under_sampling import NeighbourhoodCleaningRule\n",
    "from imblearn.under_sampling import TomekLinks\n",
    "from imblearn.pipeline import Pipeline as ImbPipe\n",
    "from sklearn.grid_search import GridSearchCV\n",
    "#from sklearn.metrics import roc_curve, auc\n",
    "from sklearn.metrics import confusion_matrix, matthews_corrcoef,\\\n",
    "classification_report, roc_auc_score, accuracy_score\n",
    "\n",
    "from collections import Counter\n",
    "from time import time\n",
    "from __future__ import division\n",
    "import warnings\n",
    "warnings.filterwarnings(\"ignore\")"
   ]
  },
  {
   "cell_type": "code",
   "execution_count": 2,
   "metadata": {
    "collapsed": false
   },
   "outputs": [
    {
     "name": "stdout",
     "output_type": "stream",
     "text": [
      "The dataset has 1567 observations/rows and 590 variables/columns.\n",
      "The ratio of majority class to minority class is 14:1.\n"
     ]
    }
   ],
   "source": [
    "# get the data\n",
    "\n",
    "url = \"http://archive.ics.uci.edu/ml/machine-learning-databases/secom/secom.data\"\n",
    "secom = pd.read_table(url, header=None, delim_whitespace=True)\n",
    "\n",
    "url = \"http://archive.ics.uci.edu/ml/machine-learning-databases/secom/secom_labels.data\"\n",
    "y = pd.read_table(url, header=None, usecols=[0], squeeze=True, delim_whitespace=True)\n",
    "\n",
    "print 'The dataset has {} observations/rows and {} variables/columns.' \\\n",
    "       .format(secom.shape[0], secom.shape[1])\n",
    "print 'The ratio of majority class to minority class is {}:1.' \\\n",
    "      .format(int(y[y == -1].size/y[y == 1].size))"
   ]
  },
  {
   "cell_type": "markdown",
   "metadata": {},
   "source": [
    "<h3>II. Preprocessing </h3>"
   ]
  },
  {
   "cell_type": "markdown",
   "metadata": {},
   "source": [
    "We process the missing values first, dropping columns which have a large number of missing values and imputing values for those that have only a few missing values.\n",
    "The Random Forest variable importance is used to rank the variables in terms of their importance. The [one-class SVM](https://github.com/Meena-Mani/SECOM_class_imbalance/blob/master/secomdata_ocsvm.ipynb) exercise has a more detailed version of these steps."
   ]
  },
  {
   "cell_type": "code",
   "execution_count": 3,
   "metadata": {
    "collapsed": false
   },
   "outputs": [
    {
     "name": "stdout",
     "output_type": "stream",
     "text": [
      "The SECOM data set now has 409 variables.\n"
     ]
    }
   ],
   "source": [
    "# dropping columns which have large number of missing entries \n",
    "\n",
    "m = map(lambda x: sum(secom[x].isnull()), xrange(secom.shape[1]))\n",
    "m_200thresh = filter(lambda i: (m[i] > 200), xrange(secom.shape[1]))\n",
    "secom_drop_200thresh = secom.dropna(subset=[m_200thresh], axis=1)\n",
    "dropthese = [x for x in secom_drop_200thresh.columns.values if \\\n",
    "             secom_drop_200thresh[x].std() == 0]\n",
    "secom_drop_200thresh.drop(dropthese, axis=1, inplace=True)\n",
    "\n",
    "print 'The SECOM data set now has {} variables.'\\\n",
    "      .format(secom_drop_200thresh.shape[1])  "
   ]
  },
  {
   "cell_type": "code",
   "execution_count": 4,
   "metadata": {
    "collapsed": true
   },
   "outputs": [],
   "source": [
    "# imputing missing values for the random forest\n",
    "\n",
    "imp = Imputer(missing_values='NaN', strategy='median', axis=0)\n",
    "secom_imp = pd.DataFrame(imp.fit_transform(secom_drop_200thresh))\n",
    "\n",
    "# use Random Forest to assess variable importance\n",
    "\n",
    "rf = RandomForestClassifier(n_estimators=100, random_state=7)\n",
    "rf.fit(secom_imp, y)\n",
    "\n",
    "# sorting features according to their rank\n",
    "\n",
    "importance = rf.feature_importances_\n",
    "ranked_indices = np.argsort(importance)[::-1]"
   ]
  },
  {
   "cell_type": "code",
   "execution_count": 6,
   "metadata": {
    "collapsed": false
   },
   "outputs": [
    {
     "name": "stdout",
     "output_type": "stream",
     "text": [
      "Train data for each class: Counter({-1: 1170, 1: 83}) \n",
      "The maj/min class ratio is: 14\n",
      "Holdout data for each class: Counter({-1: 293, 1: 21}) \n",
      "The maj/min class ratio for the holdout set is: 14\n"
     ]
    }
   ],
   "source": [
    "# split data into train and holdout sets\n",
    "# stratify the sample used for modeling to preserve the class proportions\n",
    "\n",
    "#X_train, X_test, y_train, y_test = tts(secom_imp[ranked_indices[:40]], y, \\\n",
    "X_train, X_test, y_train, y_test = tts(secom_imp[ranked_indices], y, \\\n",
    "                                   test_size=0.2, stratify=y, random_state=5)\n",
    "                                 \n",
    "print 'Train data for each class: {} '\\\n",
    "      .format(Counter(y_train))\n",
    "print 'The maj/min class ratio is: {0:2.0f}' \\\n",
    "      .format(round(y_train[y_train == -1].size/y_train[y_train == 1].size))\n",
    "print 'Holdout data for each class: {} '\\\n",
    "      .format(Counter(y_test))\n",
    "print 'The maj/min class ratio for the holdout set is: {0:2.0f}' \\\n",
    "      .format(round(y_test[y_test == -1].size/y_test[y_test == 1].size))"
   ]
  },
  {
   "cell_type": "markdown",
   "metadata": {},
   "source": [
    "\n",
    "\n",
    "The SVM is sensitive to feature scale so the first step is to center and normalize the data. The train and test sets are scaled separately using the mean and variance computed from the training data. This is done to estimate the ability of the model to generalize.\n"
   ]
  },
  {
   "cell_type": "code",
   "execution_count": 7,
   "metadata": {
    "collapsed": false
   },
   "outputs": [],
   "source": [
    "# scaling the split data. The holdout data uses scaling parameters \n",
    "# computed from the training data\n",
    "\n",
    "standard_scaler = StandardScaler()\n",
    "X_train_scaled  = pd.DataFrame(standard_scaler.fit_transform(X_train), \\\n",
    "                              index=X_train.index)\n",
    "X_test_scaled = pd.DataFrame(standard_scaler.transform(X_test))\n",
    "# Note: we convert to a DataFrame because the plot functions \n",
    "# we will use need DataFrame inputs."
   ]
  },
  {
   "cell_type": "markdown",
   "metadata": {},
   "source": [
    "<h3>III. Undersampling </h3>\n",
    "\n",
    "We will use the *Imblearn* [Random Undersampler](http://contrib.scikit-learn.org/imbalanced-learn/generated/imblearn.under_sampling.RandomUnderSampler.html) method to perform random undersampling. In Random Undersampling,  data points are randomly selected and removed from the majority class. It is a simple method for addressing class imbalance but the classifier is forced to learn from a smaller data set and may miss certain characteristics of the data.\n",
    "\n",
    "In this section we will look at the following:\n",
    "\n",
    "- Interactive histogram of undersampled data\n",
    "- Cross validation with undersampling ratio and SVM rbf kernel parameters\n",
    "- Experimenting with feature set size"
   ]
  },
  {
   "cell_type": "markdown",
   "metadata": {},
   "source": [
    "<h4> Plotting the distribution before and after undersampling </h4>"
   ]
  },
  {
   "cell_type": "code",
   "execution_count": 8,
   "metadata": {
    "collapsed": false
   },
   "outputs": [
    {
     "name": "stdout",
     "output_type": "stream",
     "text": [
      "Original dataset distribution: Counter({-1: 1170, 1: 83})\n",
      "Resampled dataset distribution: Counter({-1: 103, 1: 83})\n"
     ]
    }
   ],
   "source": [
    "# undersampling numbers before/after\n",
    "\n",
    "print 'Original dataset distribution: {}'.format(Counter(y_train))\n",
    "ratio = 0.8\n",
    "\n",
    "rus = RandomUnderSampler(ratio=ratio, random_state=7)\n",
    "X_res, y_res = rus.fit_sample(X_train_scaled, y_train)\n",
    "\n",
    "print 'Resampled dataset distribution: {}'.format(Counter(y_res))"
   ]
  },
  {
   "cell_type": "code",
   "execution_count": 9,
   "metadata": {
    "collapsed": false
   },
   "outputs": [
    {
     "data": {
      "image/png": "[encoded data removed]",
      "text/plain": [
       "<matplotlib.figure.Figure at 0x1096e0d90>"
      ]
     },
     "metadata": {},
     "output_type": "display_data"
    }
   ],
   "source": [
    "# plotting majority class distribution after undersampling\n",
    "# displaying column 4\n",
    "\n",
    "from IPython.html.widgets import interact\n",
    "@interact(ratio=[0.1,1.0])\n",
    "\n",
    "def plot_dist(ratio):\n",
    "    sns.set(style=\"white\", font_scale=1.3) \n",
    "    fig, ax = plt.subplots(figsize=(7,5))\n",
    "\n",
    "    rus = RandomUnderSampler(ratio=ratio, random_state=7)\n",
    "    X_res, y_res = rus.fit_sample(X_train_scaled, y_train)\n",
    "\n",
    "    X_res_df = pd.DataFrame(X_res)\n",
    "\n",
    "    ax = sns.distplot(X_train_scaled[4][y_train == -1], color='darkorange', \\\n",
    "                  kde=False, label='before')\n",
    "    ax = sns.distplot(X_res_df[4][y_res == -1], color='b',  \\\n",
    "                  kde=False, label='after')         \n",
    "\n",
    "    ax.set_ylim([0, 180])\n",
    "    ax.set(xlabel='')\n",
    "    ax.legend(title='Ratio = {}'.format(ratio))\n",
    "    plt.title('Majority class distribution before and after undersampling')\n",
    "\n",
    "    plt.show()\n"
   ]
  },
  {
   "cell_type": "markdown",
   "metadata": {},
   "source": [
    "<h4> Cross-validation </h4>\n",
    "\n",
    "The usual way to select parameters is via grid-search and cross-validation (CV). We will do a grid search over undersampling ratios, and the SVM rbf kernel tuning parameters. The five-fold CV is stratified so for each fold, sampling ratios are preserved.   \n",
    "The *imblearn package* includes a [pipeline](http://contrib.scikit-learn.org/imbalanced-learn/generated/imblearn.pipeline.Pipeline.html#imblearn.pipeline.Pipeline) module which allows one to chain transformers, resamplers and estimators. We use the pipeline to chain undersampling method with the SVM classifier.  \n",
    "We will set-up a CV function to test out different undersampling methods. We will also vary the number of features.\n",
    "\n",
    "The default CV scoring is based on the accuracy. When the classes are imbalanced, the true positive of the majority class dominates. Often, there is a high cost associated with the misclassification of the minority class, and in those cases alternative [scoring measures](http://scikit-learn.org/stable/modules/model_evaluation.html) such as the [F1](http://scikit-learn.org/stable/modules/generated/sklearn.metrics.f1_score.html) and [$F_{\\beta}$](http://scikit-learn.org/stable/modules/generated/sklearn.metrics.fbeta_score.html) scores or the [Matthews Correlation Coefficient](http://scikit-learn.org/stable/modules/generated/sklearn.metrics.matthews_corrcoef.html) (which uses all four values of the confusion matrix) are used.   \n"
   ]
  },
  {
   "cell_type": "markdown",
   "metadata": {
    "collapsed": false
   },
   "source": [
    "<h5>CV setup</h5>"
   ]
  },
  {
   "cell_type": "code",
   "execution_count": 10,
   "metadata": {
    "collapsed": false
   },
   "outputs": [],
   "source": [
    "# defining the MCC metric to assess cross-validation\n",
    "\n",
    "from sklearn.metrics import make_scorer, matthews_corrcoef\n",
    "\n",
    "def tpr_score(y_true, y_pred):\n",
    "    tprate = float(cm[1][1])/np.sum(cm[1])\n",
    "    return tprate\n",
    "\n",
    "def mcc_score(y_true, y_pred):\n",
    "    mcc = matthews_corrcoef(y_true, y_pred)\n",
    "    return mcc\n",
    "    \n",
    "mcc_scorer = make_scorer(mcc_score, greater_is_better=True)\n",
    "tpr_scorer = make_scorer(tpr_score, greater_is_better=True)"
   ]
  },
  {
   "cell_type": "code",
   "execution_count": 20,
   "metadata": {
    "collapsed": false
   },
   "outputs": [],
   "source": [
    "# print classification results\n",
    "\n",
    "def test_results(y_test, y_predicted):\n",
    "\n",
    "    print '\\nThe accuracy is: {0:4.2} ' \\\n",
    "    .format(accuracy_score(y_test, y_predicted))\n",
    "\n",
    "    print '\\nThe confusion matrix: '\n",
    "    cm = confusion_matrix(y_test, y_predicted)\n",
    "    print cm\n",
    "\n",
    "    print '\\nThe True Negative rate is: {0:4.2}' \\\n",
    "    .format(float(cm[1][1])/np.sum(cm[1]))\n",
    "\n",
    "    print '\\nThe Matthews correlation coefficient: {0:4.2f} \\n' \\\n",
    "    .format(matthews_corrcoef(y_test, y_predicted))\n",
    "\n",
    "    print(classification_report(y_test, y_predicted))\n",
    "    print 'The AUC is: {0:4.2}'\\\n",
    "    .format(roc_auc_score(y_test, y_predicted))\n"
   ]
  },
  {
   "cell_type": "code",
   "execution_count": 12,
   "metadata": {
    "collapsed": false
   },
   "outputs": [],
   "source": [
    "# grid search cross-validation function\n",
    "\n",
    "def sampling_gridcv(samp_method, nfeatures):\n",
    "      \n",
    "    X_train_ = X_train_scaled.iloc[:,:nfeatures]\n",
    "    X_test_ = X_test_scaled.iloc[:,:nfeatures]\n",
    "    \n",
    "    add_parameters = dict()\n",
    "    if samp_method == 'rus':\n",
    "        sampling = RandomUnderSampler(random_state=7)\n",
    "        #[0.1, 0.2, 0.3, 0.4, 0.5, 0.6, 0.7, 0.8, 0.9, 1.0]\n",
    "        add_parameters = dict(samp__ratio = np.arange(1,11)*0.1)\n",
    "    elif samp_method == 't1':\n",
    "        sampling = TomekLinks(random_state=7)\n",
    "    elif samp_method == 'ncr':\n",
    "        sampling = NeighbourhoodCleaningRule(random_state=7)\n",
    " \n",
    "\n",
    "    estimators = [('samp', sampling),\n",
    "                  ('clf', SVC(probability=True, random_state=7))]\n",
    "    \n",
    "    parameters = dict(clf__C =[1, 10, 50, 100, 200],\n",
    "                      clf__gamma=[.04, .05, .06, .07])\n",
    "    parameters.update(add_parameters)\n",
    "\n",
    "    pipe = ImbPipe(estimators)\n",
    "    print pipe\n",
    "\n",
    "    # stratified K-fold cross-validation\n",
    "    cv = GridSearchCV(pipe, param_grid = parameters, cv =5, scoring=mcc_scorer)\n",
    "    start = time()\n",
    "    cv.fit(X_train_, y_train)\n",
    "    print 'GridSearchCV took {} seconds for {} candidate parameter settings.'\\\n",
    "    .format(time() - start, len(cv.grid_scores_))\n",
    "    y_predicted = cv.predict(X_test_)\n",
    "    probas_ = cv.predict_proba(X_test_)\n",
    "    print '\\nThe best CV parameters are: {}' .format(cv.best_params_)\n",
    "    \n",
    "    # print test results using best parameters\n",
    "    test_results(y_test, y_predicted)"
   ]
  },
  {
   "cell_type": "markdown",
   "metadata": {},
   "source": [
    "<h5>CV Results</h5>"
   ]
  },
  {
   "cell_type": "code",
   "execution_count": 13,
   "metadata": {
    "collapsed": false
   },
   "outputs": [
    {
     "name": "stdout",
     "output_type": "stream",
     "text": [
      "Pipeline(steps=[('samp', RandomUnderSampler(random_state=7, ratio='auto', replacement=True,\n",
      "          return_indices=False)), ('clf', SVC(C=1.0, cache_size=200, class_weight=None, coef0=0.0,\n",
      "  decision_function_shape=None, degree=3, gamma='auto', kernel='rbf',\n",
      "  max_iter=-1, probability=True, random_state=7, shrinking=True, tol=0.001,\n",
      "  verbose=False))])\n",
      "GridSearchCV took 42.8701519966 seconds for 200 candidate parameter settings.\n",
      "\n",
      "The best CV parameters are: {'clf__gamma': 0.04, 'samp__ratio': 0.90000000000000002, 'clf__C': 1}\n",
      "The accuracy is: 0.75 \n",
      "\n",
      "The confusion matrix: \n",
      "[[227  66]\n",
      " [ 11  10]]\n",
      "\n",
      "The True Negative rate is: 0.48\n",
      "\n",
      "The Matthews correlation coefficient: 0.15 \n",
      "\n",
      "             precision    recall  f1-score   support\n",
      "\n",
      "         -1       0.95      0.77      0.85       293\n",
      "          1       0.13      0.48      0.21        21\n",
      "\n",
      "avg / total       0.90      0.75      0.81       314\n",
      "\n",
      "The AUC is: 0.63\n"
     ]
    }
   ],
   "source": [
    "# random undersampling with 40 features\n",
    "\n",
    "sampling_gridcv('rus', 40)"
   ]
  },
  {
   "cell_type": "code",
   "execution_count": 94,
   "metadata": {
    "collapsed": false
   },
   "outputs": [
    {
     "name": "stdout",
     "output_type": "stream",
     "text": [
      "Pipeline(steps=[('samp', RandomUnderSampler(random_state=7, ratio='auto', replacement=True,\n",
      "          return_indices=False)), ('clf', SVC(C=1.0, cache_size=200, class_weight=None, coef0=0.0,\n",
      "  decision_function_shape=None, degree=3, gamma='auto', kernel='rbf',\n",
      "  max_iter=-1, probability=True, random_state=7, shrinking=True, tol=0.001,\n",
      "  verbose=False))])\n",
      "GridSearchCV took 74.4839968681 seconds for 200 candidate parameter settings.\n",
      "\n",
      "The best CV parameters are: {'clf__gamma': 0.04, 'samp__ratio': 0.80000000000000004, 'clf__C': 1}\n",
      "The accuracy is: 0.81 \n",
      "\n",
      "The confusion matrix: \n",
      "[[245  48]\n",
      " [ 13   8]]\n",
      "\n",
      "The True Negative rate is: 0.38\n",
      "\n",
      "The Matthews correlation coefficient: 0.14 \n",
      "\n",
      "             precision    recall  f1-score   support\n",
      "\n",
      "         -1       0.95      0.84      0.89       293\n",
      "          1       0.14      0.38      0.21        21\n",
      "\n",
      "avg / total       0.90      0.81      0.84       314\n",
      "\n",
      "The AUC is: 0.61\n"
     ]
    }
   ],
   "source": [
    "sampling_gridcv('rus', 100)"
   ]
  },
  {
   "cell_type": "code",
   "execution_count": 96,
   "metadata": {
    "collapsed": false
   },
   "outputs": [
    {
     "name": "stdout",
     "output_type": "stream",
     "text": [
      "Pipeline(steps=[('samp', RandomUnderSampler(random_state=7, ratio='auto', replacement=True,\n",
      "          return_indices=False)), ('clf', SVC(C=1.0, cache_size=200, class_weight=None, coef0=0.0,\n",
      "  decision_function_shape=None, degree=3, gamma='auto', kernel='rbf',\n",
      "  max_iter=-1, probability=True, random_state=7, shrinking=True, tol=0.001,\n",
      "  verbose=False))])\n",
      "GridSearchCV took 95.4989879131 seconds for 200 candidate parameter settings.\n",
      "\n",
      "The best CV parameters are: {'clf__gamma': 0.04, 'samp__ratio': 0.90000000000000002, 'clf__C': 10}\n",
      "The accuracy is: 0.87 \n",
      "\n",
      "The confusion matrix: \n",
      "[[265  28]\n",
      " [ 14   7]]\n",
      "\n",
      "The True Negative rate is: 0.33\n",
      "\n",
      "The Matthews correlation coefficient: 0.19 \n",
      "\n",
      "             precision    recall  f1-score   support\n",
      "\n",
      "         -1       0.95      0.90      0.93       293\n",
      "          1       0.20      0.33      0.25        21\n",
      "\n",
      "avg / total       0.90      0.87      0.88       314\n",
      "\n",
      "The AUC is: 0.62\n"
     ]
    }
   ],
   "source": [
    "sampling_gridcv('rus', 140)"
   ]
  },
  {
   "cell_type": "markdown",
   "metadata": {},
   "source": [
    "Based on the results of the CV above, we will re-run a simpler grid search using the following parameters:\n",
    "- ratio of 1.0 \n",
    "- number of features = 40\n",
    "- C = 1\n",
    "- gamma = 0.04"
   ]
  },
  {
   "cell_type": "code",
   "execution_count": 91,
   "metadata": {
    "collapsed": false
   },
   "outputs": [
    {
     "name": "stdout",
     "output_type": "stream",
     "text": [
      "GridSearchCV took 0.23 seconds for 12 candidate parameter settings.\n",
      "The accuracy is:  0.7 \n",
      "\n",
      "The confusion matrix: \n",
      "[[206  87]\n",
      " [  7  14]]\n",
      "\n",
      "The True Negative rate is: 0.67\n",
      "\n",
      "The Matthews correlation coefficient: 0.20 \n",
      "\n",
      "             precision    recall  f1-score   support\n",
      "\n",
      "         -1       0.97      0.70      0.81       293\n",
      "          1       0.14      0.67      0.23        21\n",
      "\n",
      "avg / total       0.91      0.70      0.78       314\n",
      "\n",
      "The AUC is: 0.68\n"
     ]
    }
   ],
   "source": [
    "# validating best CV parameters with re-run \n",
    "\n",
    "ratio = 1.0\n",
    "\n",
    "X_train_ = X_train_scaled.iloc[:,:40]\n",
    "X_test_ = X_test_scaled.iloc[:,:40]\n",
    "\n",
    "rus = RandomUnderSampler(ratio=ratio, random_state=7)\n",
    "X_res, y_res = rus.fit_sample(X_train_, y_train)\n",
    "\n",
    "clf = SVC(random_state=7)\n",
    "\n",
    "param_grid = {\"C\": [1, 5, 10, 100],\n",
    "              \"gamma\": [0.04, 0.05, 0.06]}\n",
    "\n",
    "# run grid search\n",
    "grid_search = GridSearchCV(clf, param_grid=param_grid,  scoring=mcc_scorer)\n",
    "start = time()\n",
    "grid_search.fit(X_res, y_res)\n",
    "\n",
    "print(\"GridSearchCV took %.2f seconds for %d candidate parameter settings.\"\n",
    "     % (time() - start, len(grid_search.grid_scores_)))\n",
    "print '\\nThe best CV parameters are: {}' .format(grid_search.best_params_)\n",
    "\n",
    "# using model with best parameters on test set\n",
    "y_predicted = grid_search.predict(X_test_)\n",
    "test_results(y_test, y_predicted)"
   ]
  },
  {
   "cell_type": "markdown",
   "metadata": {},
   "source": [
    "<h3>IV. Data Cleaning + Undersampling </h3>"
   ]
  },
  {
   "cell_type": "markdown",
   "metadata": {},
   "source": [
    "<h4>1. Tomek Links</h4>\n",
    "\n",
    "If a pair of minimally distanced nearest neighbors are of opposite classes, they are said to form a Tomek link <a href=\"#ref1\">[1]</a> <a href=\"#ref3\">[3]</a> . Tomek links are present both at class boundaries or when there is noise, within a class. Tomek links are used to cleanup the data set and establish well-defined class clusters and boundaries. We will perform a gridsearch CV using the *Imblearn* [Tomek Links](http://contrib.scikit-learn.org/imbalanced-learn/generated/imblearn.under_sampling.TomekLinks.html#imblearn.under_sampling.TomekLinks) method along with the SVM classifier in the section."
   ]
  },
  {
   "cell_type": "code",
   "execution_count": 18,
   "metadata": {
    "collapsed": false
   },
   "outputs": [
    {
     "name": "stdout",
     "output_type": "stream",
     "text": [
      "Pipeline(steps=[('samp', TomekLinks(n_jobs=-1, random_state=7, return_indices=False)), ('clf', SVC(C=1.0, cache_size=200, class_weight=None, coef0=0.0,\n",
      "  decision_function_shape=None, degree=3, gamma='auto', kernel='rbf',\n",
      "  max_iter=-1, probability=True, random_state=7, shrinking=True, tol=0.001,\n",
      "  verbose=False))])\n",
      "GridSearchCV took 36.3904550076 seconds for 20 candidate parameter settings.\n",
      "\n",
      "The best CV parameters are: {'clf__gamma': 0.04, 'clf__C': 50}\n",
      "The accuracy is: 0.93 \n",
      "\n",
      "The confusion matrix: \n",
      "[[289   4]\n",
      " [ 18   3]]\n",
      "\n",
      "The True Negative rate is: 0.14\n",
      "\n",
      "The Matthews correlation coefficient: 0.22 \n",
      "\n",
      "             precision    recall  f1-score   support\n",
      "\n",
      "         -1       0.94      0.99      0.96       293\n",
      "          1       0.43      0.14      0.21        21\n",
      "\n",
      "avg / total       0.91      0.93      0.91       314\n",
      "\n",
      "The AUC is: 0.56\n"
     ]
    }
   ],
   "source": [
    "sampling_gridcv('t1', 40)"
   ]
  },
  {
   "cell_type": "markdown",
   "metadata": {},
   "source": [
    "<h4>2. Neighborhood Cleaning Rule</h4>\n",
    "\n",
    "The Neighborhood Cleaning Rule (NCL) is based on a 2001 paper by Laurikkala <a href=\"#ref4\">[4]</a>. It is a combination of ENN (edited nearest neighbor where data points that differ from two of their three nearest neighbors are removed) and Tomek links. NCL emphasizes data cleaning over data reduction with the view that the quality of classification does not necessarily depend on the size of the class.  \n",
    "We will perform a gridsearch CV using the *Imblearn* [Neighborhood Cleaning Rule](http://contrib.scikit-learn.org/imbalanced-learn/generated/imblearn.under_sampling.NeighbourhoodCleaningRule.html#imblearn.under_sampling.NeighbourhoodCleaningRule) method along with the SVM classifier."
   ]
  },
  {
   "cell_type": "code",
   "execution_count": 19,
   "metadata": {
    "collapsed": false
   },
   "outputs": [
    {
     "name": "stdout",
     "output_type": "stream",
     "text": [
      "Original dataset distribution: Counter({-1: 1170, 1: 83})\n",
      "Resampled dataset distribution: Counter({-1: 1039, 1: 83})\n"
     ]
    }
   ],
   "source": [
    "# Number of elements before/after NCL\n",
    "\n",
    "print 'Original dataset distribution: {}'.format(Counter(y_train))\n",
    "\n",
    "ncr = NeighbourhoodCleaningRule(random_state=7)\n",
    "X_res, y_res = ncr.fit_sample(X_train_scaled, y_train)\n",
    "\n",
    "print 'Resampled dataset distribution: {}'.format(Counter(y_res))"
   ]
  },
  {
   "cell_type": "code",
   "execution_count": 16,
   "metadata": {
    "collapsed": false
   },
   "outputs": [
    {
     "name": "stdout",
     "output_type": "stream",
     "text": [
      "Pipeline(steps=[('samp', NeighbourhoodCleaningRule(n_jobs=-1, random_state=7, return_indices=False,\n",
      "             size_ngh=3)), ('clf', SVC(C=1.0, cache_size=200, class_weight=None, coef0=0.0,\n",
      "  decision_function_shape=None, degree=3, gamma='auto', kernel='rbf',\n",
      "  max_iter=-1, probability=True, random_state=7, shrinking=True, tol=0.001,\n",
      "  verbose=False))])\n",
      "GridSearchCV took 59.2192070484 seconds for 20 candidate parameter settings.\n",
      "\n",
      "The best CV parameters are: {'clf__gamma': 0.04, 'clf__C': 10}\n",
      "The accuracy is: 0.92 \n",
      "\n",
      "The confusion matrix: \n",
      "[[287   6]\n",
      " [ 20   1]]\n",
      "\n",
      "The True Negative rate is: 0.048\n",
      "\n",
      "The Matthews correlation coefficient: 0.05 \n",
      "\n",
      "             precision    recall  f1-score   support\n",
      "\n",
      "         -1       0.93      0.98      0.96       293\n",
      "          1       0.14      0.05      0.07        21\n",
      "\n",
      "avg / total       0.88      0.92      0.90       314\n",
      "\n",
      "The AUC is: 0.51\n"
     ]
    }
   ],
   "source": [
    "sampling_gridcv('ncr', 60)"
   ]
  },
  {
   "cell_type": "markdown",
   "metadata": {
    "collapsed": true
   },
   "source": [
    "<h3>V. Discussion</h3>\n",
    "\n",
    "In our experiments, the simple Random Undersampling method gave much better results (with respect to the minority class) than the NCL and Tomek Links methods which emphasized data cleaning. Furthermore, the Undersampling also gave better results than [Oversampling with SMOTE](https://github.com/Meena-Mani/SECOM_class_imbalance/blob/master/secomdata_svm_smote.ipynb). (writeup to be completed)\n"
   ]
  },
  {
   "cell_type": "markdown",
   "metadata": {},
   "source": [
    "<h3>VI. References and Further Reading </h3>\n",
    "\n",
    "<a name=\"ref1\"></a>[1] [H. He and E. A. Garcia, “Learning from Imbalanced Data,” IEEE Trans. Knowledge and Data Engineering, vol. 21, issue 9, pp. 1263-1284, 2009. ](http://www.ele.uri.edu/faculty/he/PDFfiles/ImbalancedLearning.pdf)\n",
    "\n",
    "<a name=\"ref2\"></a>[2] [Lecture Notes based on “Learning from Imbalanced Data” by Haibo He](http://www.ele.uri.edu/faculty/he/PDFfiles/ImbalancedLearning_lecturenotes.pdf)\n",
    "\n",
    "<a name=\"ref3\"></a>[3] [I. Tomek, “Two modifications of CNN,” In Systems, Man, and Cybernetics, IEEE Transactions on, vol. 6, pp 769-772, 1976.](http://sci2s.ugr.es/keel/dataset/includes/catImbFiles/1976-Tomek-IEEETSMC.pdf)\n",
    "\n",
    "<a name=\"ref4\"></a>[4] [Laurikkala, Jorma. \"Improving identification of difficult small classes by balancing class distribution.\" Conference on Artificial Intelligence in Medicine in Europe. Springer Berlin Heidelberg, 2001.](http://sci2s.ugr.es/keel/pdf/algorithm/congreso/2001-Laurikkala-LNCS.pdf)\n"
   ]
  },
  {
   "cell_type": "markdown",
   "metadata": {},
   "source": [
    "<div style=\"background-color: #FAAC58; margin-left: 0px; margin-right: 20px; padding-bottom: 8px; padding-left: 8px; padding-right: 8px; padding-top: 8px;\">\n",
    "\n",
    "\n",
    "Author:  Meena Mani  <br>\n",
    "email:   meenas.mailbag@gmail.com   <br> \n",
    "twitter: @meena_uvaca    <br>\n",
    "</div>"
   ]
  }
 ],
 "metadata": {
  "kernelspec": {
   "display_name": "Python 2",
   "language": "python",
   "name": "python2"
  },
  "language_info": {
   "codemirror_mode": {
    "name": "ipython",
    "version": 2
   },
   "file_extension": ".py",
   "mimetype": "text/x-python",
   "name": "python",
   "nbconvert_exporter": "python",
   "pygments_lexer": "ipython2",
   "version": "2.7.8"
  }
 },
 "nbformat": 4,
 "nbformat_minor": 0
}
